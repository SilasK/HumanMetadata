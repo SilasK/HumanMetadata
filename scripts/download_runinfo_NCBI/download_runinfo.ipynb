{
 "cells": [
  {
   "cell_type": "markdown",
   "metadata": {},
   "source": [
    "map sra runs to sra samples for submission \n"
   ]
  },
  {
   "cell_type": "code",
   "execution_count": 2,
   "metadata": {},
   "outputs": [
    {
     "name": "stderr",
     "output_type": "stream",
     "text": [
      "\u001b[33mWARNING [bioservices:EUtils]: \u001b[0m \u001b[34mThe URL (https://eutils.ncbi.nlm.nih.gov/entrez/eutils) provided cannot be reached.\u001b[0m\n"
     ]
    }
   ],
   "source": [
    "\n",
    "\n",
    "\n",
    "%run metadtaSRA.py\n"
   ]
  },
  {
   "cell_type": "code",
   "execution_count": 2,
   "metadata": {},
   "outputs": [],
   "source": [
    "ebi_metadata= pd.read_excel('/Users/silas/Desktop/Projects//HumanEbi/data/ebi/ebi_metadata.xlsx',index_col=0,skipfooter=6,skiprows=1)"
   ]
  },
  {
   "cell_type": "code",
   "execution_count": 9,
   "metadata": {},
   "outputs": [
    {
     "data": {
      "text/plain": [
       "['DRR042264', 'DRR042265', 'DRR042272', 'DRR042273', 'DRR042280']"
      ]
     },
     "execution_count": 9,
     "metadata": {},
     "output_type": "execute_result"
    }
   ],
   "source": [
    "ids=list(ebi_metadata.index)\n",
    "\n",
    "ids[:5]"
   ]
  },
  {
   "cell_type": "code",
   "execution_count": 4,
   "metadata": {},
   "outputs": [],
   "source": [
    "xml_folder='/Users/silas/Downloads/xml_sra'\n",
    "\n",
    "#!rm -r {xml_folder}"
   ]
  },
  {
   "cell_type": "code",
   "execution_count": 11,
   "metadata": {},
   "outputs": [
    {
     "name": "stderr",
     "output_type": "stream",
     "text": [
      "66it [22:47, 20.72s/it]\n"
     ]
    }
   ],
   "source": [
    "download_sra_metadata(ids,xml_folder)"
   ]
  },
  {
   "cell_type": "code",
   "execution_count": 7,
   "metadata": {
    "tags": []
   },
   "outputs": [
    {
     "name": "stderr",
     "output_type": "stream",
     "text": [
      "\u001b[33mWARNING [bioservices:EUtils]: \u001b[0m \u001b[34mThe URL (https://eutils.ncbi.nlm.nih.gov/entrez/eutils) provided cannot be reached.\u001b[0m\n",
      " 32%|███▏      | 29/91 [00:00<00:00, 285.82it/s]/Users/silas/Desktop/Projects/DownloadRuninfo/metadtaSRA.py:95: UserWarning: Some samples have multiple runs\n",
      "  warnings.warn(\"Some samples have multiple runs\")\n",
      "/Users/silas/Desktop/Projects/DownloadRuninfo/metadtaSRA.py:70: UserWarning: Run has no associated bioproject id\n",
      "  warnings.warn('Run has no associated bioproject id')\n",
      "100%|██████████| 91/91 [04:45<00:00,  3.14s/it] \n"
     ]
    }
   ],
   "source": [
    "\n",
    "%run metadtaSRA.py\n",
    "\n",
    "df=parse_sra_metadata(xml_folder)\n"
   ]
  },
  {
   "cell_type": "code",
   "execution_count": 9,
   "metadata": {},
   "outputs": [
    {
     "data": {
      "text/html": [
       "<div>\n",
       "<style scoped>\n",
       "    .dataframe tbody tr th:only-of-type {\n",
       "        vertical-align: middle;\n",
       "    }\n",
       "\n",
       "    .dataframe tbody tr th {\n",
       "        vertical-align: top;\n",
       "    }\n",
       "\n",
       "    .dataframe thead th {\n",
       "        text-align: right;\n",
       "    }\n",
       "</style>\n",
       "<table border=\"1\" class=\"dataframe\">\n",
       "  <thead>\n",
       "    <tr style=\"text-align: right;\">\n",
       "      <th></th>\n",
       "      <th>BioProject</th>\n",
       "      <th>BioProject Title</th>\n",
       "      <th>BioSampleModel</th>\n",
       "      <th>RunID</th>\n",
       "      <th>EXTERNAL_ID</th>\n",
       "      <th>GVHD</th>\n",
       "      <th>PRIMARY_ID</th>\n",
       "      <th>SCIENTIFIC_NAME</th>\n",
       "      <th>TAXON_ID</th>\n",
       "      <th>collection_date</th>\n",
       "      <th>...</th>\n",
       "      <th>DOL</th>\n",
       "      <th>infant</th>\n",
       "      <th>num_sample</th>\n",
       "      <th>is_reference</th>\n",
       "      <th>investigation_type</th>\n",
       "      <th>sample_title</th>\n",
       "      <th>config</th>\n",
       "      <th>geographic location (altitude)</th>\n",
       "      <th>project_name</th>\n",
       "      <th>sample_name</th>\n",
       "    </tr>\n",
       "  </thead>\n",
       "  <tbody>\n",
       "    <tr>\n",
       "      <th>SRR4305514</th>\n",
       "      <td>PRJNA290380</td>\n",
       "      <td>A longitudinal analysis of the developing gut ...</td>\n",
       "      <td>MIMS.me</td>\n",
       "      <td>SRR4305514</td>\n",
       "      <td>NaN</td>\n",
       "      <td>NaN</td>\n",
       "      <td>NaN</td>\n",
       "      <td>NaN</td>\n",
       "      <td>NaN</td>\n",
       "      <td>NaN</td>\n",
       "      <td>...</td>\n",
       "      <td>NaN</td>\n",
       "      <td>NaN</td>\n",
       "      <td>NaN</td>\n",
       "      <td>NaN</td>\n",
       "      <td>NaN</td>\n",
       "      <td>NaN</td>\n",
       "      <td>NaN</td>\n",
       "      <td>NaN</td>\n",
       "      <td>NaN</td>\n",
       "      <td>NaN</td>\n",
       "    </tr>\n",
       "    <tr>\n",
       "      <th>SRR4305515</th>\n",
       "      <td>PRJNA290380</td>\n",
       "      <td>A longitudinal analysis of the developing gut ...</td>\n",
       "      <td>MIMS.me</td>\n",
       "      <td>SRR4305515</td>\n",
       "      <td>NaN</td>\n",
       "      <td>NaN</td>\n",
       "      <td>NaN</td>\n",
       "      <td>NaN</td>\n",
       "      <td>NaN</td>\n",
       "      <td>NaN</td>\n",
       "      <td>...</td>\n",
       "      <td>NaN</td>\n",
       "      <td>NaN</td>\n",
       "      <td>NaN</td>\n",
       "      <td>NaN</td>\n",
       "      <td>NaN</td>\n",
       "      <td>NaN</td>\n",
       "      <td>NaN</td>\n",
       "      <td>NaN</td>\n",
       "      <td>NaN</td>\n",
       "      <td>NaN</td>\n",
       "    </tr>\n",
       "    <tr>\n",
       "      <th>SRR4305516</th>\n",
       "      <td>PRJNA290380</td>\n",
       "      <td>A longitudinal analysis of the developing gut ...</td>\n",
       "      <td>MIMS.me</td>\n",
       "      <td>SRR4305516</td>\n",
       "      <td>NaN</td>\n",
       "      <td>NaN</td>\n",
       "      <td>NaN</td>\n",
       "      <td>NaN</td>\n",
       "      <td>NaN</td>\n",
       "      <td>NaN</td>\n",
       "      <td>...</td>\n",
       "      <td>NaN</td>\n",
       "      <td>NaN</td>\n",
       "      <td>NaN</td>\n",
       "      <td>NaN</td>\n",
       "      <td>NaN</td>\n",
       "      <td>NaN</td>\n",
       "      <td>NaN</td>\n",
       "      <td>NaN</td>\n",
       "      <td>NaN</td>\n",
       "      <td>NaN</td>\n",
       "    </tr>\n",
       "    <tr>\n",
       "      <th>SRR4305517</th>\n",
       "      <td>PRJNA290380</td>\n",
       "      <td>A longitudinal analysis of the developing gut ...</td>\n",
       "      <td>MIMS.me</td>\n",
       "      <td>SRR4305517</td>\n",
       "      <td>NaN</td>\n",
       "      <td>NaN</td>\n",
       "      <td>NaN</td>\n",
       "      <td>NaN</td>\n",
       "      <td>NaN</td>\n",
       "      <td>NaN</td>\n",
       "      <td>...</td>\n",
       "      <td>NaN</td>\n",
       "      <td>NaN</td>\n",
       "      <td>NaN</td>\n",
       "      <td>NaN</td>\n",
       "      <td>NaN</td>\n",
       "      <td>NaN</td>\n",
       "      <td>NaN</td>\n",
       "      <td>NaN</td>\n",
       "      <td>NaN</td>\n",
       "      <td>NaN</td>\n",
       "    </tr>\n",
       "    <tr>\n",
       "      <th>SRR4305518</th>\n",
       "      <td>PRJNA290380</td>\n",
       "      <td>A longitudinal analysis of the developing gut ...</td>\n",
       "      <td>MIMS.me</td>\n",
       "      <td>SRR4305518</td>\n",
       "      <td>NaN</td>\n",
       "      <td>NaN</td>\n",
       "      <td>NaN</td>\n",
       "      <td>NaN</td>\n",
       "      <td>NaN</td>\n",
       "      <td>NaN</td>\n",
       "      <td>...</td>\n",
       "      <td>NaN</td>\n",
       "      <td>NaN</td>\n",
       "      <td>NaN</td>\n",
       "      <td>NaN</td>\n",
       "      <td>NaN</td>\n",
       "      <td>NaN</td>\n",
       "      <td>NaN</td>\n",
       "      <td>NaN</td>\n",
       "      <td>NaN</td>\n",
       "      <td>NaN</td>\n",
       "    </tr>\n",
       "  </tbody>\n",
       "</table>\n",
       "<p>5 rows × 93 columns</p>\n",
       "</div>"
      ],
      "text/plain": [
       "             BioProject                                   BioProject Title  \\\n",
       "SRR4305514  PRJNA290380  A longitudinal analysis of the developing gut ...   \n",
       "SRR4305515  PRJNA290380  A longitudinal analysis of the developing gut ...   \n",
       "SRR4305516  PRJNA290380  A longitudinal analysis of the developing gut ...   \n",
       "SRR4305517  PRJNA290380  A longitudinal analysis of the developing gut ...   \n",
       "SRR4305518  PRJNA290380  A longitudinal analysis of the developing gut ...   \n",
       "\n",
       "           BioSampleModel       RunID EXTERNAL_ID GVHD PRIMARY_ID  \\\n",
       "SRR4305514        MIMS.me  SRR4305514         NaN  NaN        NaN   \n",
       "SRR4305515        MIMS.me  SRR4305515         NaN  NaN        NaN   \n",
       "SRR4305516        MIMS.me  SRR4305516         NaN  NaN        NaN   \n",
       "SRR4305517        MIMS.me  SRR4305517         NaN  NaN        NaN   \n",
       "SRR4305518        MIMS.me  SRR4305518         NaN  NaN        NaN   \n",
       "\n",
       "           SCIENTIFIC_NAME TAXON_ID collection_date  ...  DOL infant  \\\n",
       "SRR4305514             NaN      NaN             NaN  ...  NaN    NaN   \n",
       "SRR4305515             NaN      NaN             NaN  ...  NaN    NaN   \n",
       "SRR4305516             NaN      NaN             NaN  ...  NaN    NaN   \n",
       "SRR4305517             NaN      NaN             NaN  ...  NaN    NaN   \n",
       "SRR4305518             NaN      NaN             NaN  ...  NaN    NaN   \n",
       "\n",
       "           num_sample is_reference investigation_type sample_title config  \\\n",
       "SRR4305514        NaN          NaN                NaN          NaN    NaN   \n",
       "SRR4305515        NaN          NaN                NaN          NaN    NaN   \n",
       "SRR4305516        NaN          NaN                NaN          NaN    NaN   \n",
       "SRR4305517        NaN          NaN                NaN          NaN    NaN   \n",
       "SRR4305518        NaN          NaN                NaN          NaN    NaN   \n",
       "\n",
       "           geographic location (altitude) project_name sample_name  \n",
       "SRR4305514                            NaN          NaN         NaN  \n",
       "SRR4305515                            NaN          NaN         NaN  \n",
       "SRR4305516                            NaN          NaN         NaN  \n",
       "SRR4305517                            NaN          NaN         NaN  \n",
       "SRR4305518                            NaN          NaN         NaN  \n",
       "\n",
       "[5 rows x 93 columns]"
      ]
     },
     "execution_count": 9,
     "metadata": {},
     "output_type": "execute_result"
    }
   ],
   "source": [
    "df.head()"
   ]
  },
  {
   "cell_type": "code",
   "execution_count": 14,
   "metadata": {},
   "outputs": [
    {
     "ename": "TypeError",
     "evalue": "unhashable type: 'list'",
     "output_type": "error",
     "traceback": [
      "\u001b[0;31m---------------------------------------------------------------------------\u001b[0m",
      "\u001b[0;31mTypeError\u001b[0m                                 Traceback (most recent call last)",
      "\u001b[0;32m<ipython-input-14-0f46bb3bd87f>\u001b[0m in \u001b[0;36m<module>\u001b[0;34m\u001b[0m\n\u001b[0;32m----> 1\u001b[0;31m \u001b[0mdf\u001b[0m\u001b[0;34m.\u001b[0m\u001b[0mduplicated\u001b[0m\u001b[0;34m(\u001b[0m\u001b[0;34m)\u001b[0m\u001b[0;34m\u001b[0m\u001b[0;34m\u001b[0m\u001b[0m\n\u001b[0m",
      "\u001b[0;32m~/miniconda3/lib/python3.8/site-packages/pandas/core/frame.py\u001b[0m in \u001b[0;36mduplicated\u001b[0;34m(self, subset, keep)\u001b[0m\n\u001b[1;32m   5403\u001b[0m \u001b[0;34m\u001b[0m\u001b[0m\n\u001b[1;32m   5404\u001b[0m         \u001b[0mvals\u001b[0m \u001b[0;34m=\u001b[0m \u001b[0;34m(\u001b[0m\u001b[0mcol\u001b[0m\u001b[0;34m.\u001b[0m\u001b[0mvalues\u001b[0m \u001b[0;32mfor\u001b[0m \u001b[0mname\u001b[0m\u001b[0;34m,\u001b[0m \u001b[0mcol\u001b[0m \u001b[0;32min\u001b[0m \u001b[0mself\u001b[0m\u001b[0;34m.\u001b[0m\u001b[0mitems\u001b[0m\u001b[0;34m(\u001b[0m\u001b[0;34m)\u001b[0m \u001b[0;32mif\u001b[0m \u001b[0mname\u001b[0m \u001b[0;32min\u001b[0m \u001b[0msubset\u001b[0m\u001b[0;34m)\u001b[0m\u001b[0;34m\u001b[0m\u001b[0;34m\u001b[0m\u001b[0m\n\u001b[0;32m-> 5405\u001b[0;31m         \u001b[0mlabels\u001b[0m\u001b[0;34m,\u001b[0m \u001b[0mshape\u001b[0m \u001b[0;34m=\u001b[0m \u001b[0mmap\u001b[0m\u001b[0;34m(\u001b[0m\u001b[0mlist\u001b[0m\u001b[0;34m,\u001b[0m \u001b[0mzip\u001b[0m\u001b[0;34m(\u001b[0m\u001b[0;34m*\u001b[0m\u001b[0mmap\u001b[0m\u001b[0;34m(\u001b[0m\u001b[0mf\u001b[0m\u001b[0;34m,\u001b[0m \u001b[0mvals\u001b[0m\u001b[0;34m)\u001b[0m\u001b[0;34m)\u001b[0m\u001b[0;34m)\u001b[0m\u001b[0;34m\u001b[0m\u001b[0;34m\u001b[0m\u001b[0m\n\u001b[0m\u001b[1;32m   5406\u001b[0m \u001b[0;34m\u001b[0m\u001b[0m\n\u001b[1;32m   5407\u001b[0m         \u001b[0mids\u001b[0m \u001b[0;34m=\u001b[0m \u001b[0mget_group_index\u001b[0m\u001b[0;34m(\u001b[0m\u001b[0mlabels\u001b[0m\u001b[0;34m,\u001b[0m \u001b[0mshape\u001b[0m\u001b[0;34m,\u001b[0m \u001b[0msort\u001b[0m\u001b[0;34m=\u001b[0m\u001b[0;32mFalse\u001b[0m\u001b[0;34m,\u001b[0m \u001b[0mxnull\u001b[0m\u001b[0;34m=\u001b[0m\u001b[0;32mFalse\u001b[0m\u001b[0;34m)\u001b[0m\u001b[0;34m\u001b[0m\u001b[0;34m\u001b[0m\u001b[0m\n",
      "\u001b[0;32m~/miniconda3/lib/python3.8/site-packages/pandas/core/frame.py\u001b[0m in \u001b[0;36mf\u001b[0;34m(vals)\u001b[0m\n\u001b[1;32m   5377\u001b[0m \u001b[0;34m\u001b[0m\u001b[0m\n\u001b[1;32m   5378\u001b[0m         \u001b[0;32mdef\u001b[0m \u001b[0mf\u001b[0m\u001b[0;34m(\u001b[0m\u001b[0mvals\u001b[0m\u001b[0;34m)\u001b[0m\u001b[0;34m:\u001b[0m\u001b[0;34m\u001b[0m\u001b[0;34m\u001b[0m\u001b[0m\n\u001b[0;32m-> 5379\u001b[0;31m             labels, shape = algorithms.factorize(\n\u001b[0m\u001b[1;32m   5380\u001b[0m                 \u001b[0mvals\u001b[0m\u001b[0;34m,\u001b[0m \u001b[0msize_hint\u001b[0m\u001b[0;34m=\u001b[0m\u001b[0mmin\u001b[0m\u001b[0;34m(\u001b[0m\u001b[0mlen\u001b[0m\u001b[0;34m(\u001b[0m\u001b[0mself\u001b[0m\u001b[0;34m)\u001b[0m\u001b[0;34m,\u001b[0m \u001b[0mSIZE_HINT_LIMIT\u001b[0m\u001b[0;34m)\u001b[0m\u001b[0;34m\u001b[0m\u001b[0;34m\u001b[0m\u001b[0m\n\u001b[1;32m   5381\u001b[0m             )\n",
      "\u001b[0;32m~/miniconda3/lib/python3.8/site-packages/pandas/core/algorithms.py\u001b[0m in \u001b[0;36mfactorize\u001b[0;34m(values, sort, na_sentinel, size_hint)\u001b[0m\n\u001b[1;32m    720\u001b[0m             \u001b[0mna_value\u001b[0m \u001b[0;34m=\u001b[0m \u001b[0;32mNone\u001b[0m\u001b[0;34m\u001b[0m\u001b[0;34m\u001b[0m\u001b[0m\n\u001b[1;32m    721\u001b[0m \u001b[0;34m\u001b[0m\u001b[0m\n\u001b[0;32m--> 722\u001b[0;31m         codes, uniques = factorize_array(\n\u001b[0m\u001b[1;32m    723\u001b[0m             \u001b[0mvalues\u001b[0m\u001b[0;34m,\u001b[0m \u001b[0mna_sentinel\u001b[0m\u001b[0;34m=\u001b[0m\u001b[0mna_sentinel\u001b[0m\u001b[0;34m,\u001b[0m \u001b[0msize_hint\u001b[0m\u001b[0;34m=\u001b[0m\u001b[0msize_hint\u001b[0m\u001b[0;34m,\u001b[0m \u001b[0mna_value\u001b[0m\u001b[0;34m=\u001b[0m\u001b[0mna_value\u001b[0m\u001b[0;34m\u001b[0m\u001b[0;34m\u001b[0m\u001b[0m\n\u001b[1;32m    724\u001b[0m         )\n",
      "\u001b[0;32m~/miniconda3/lib/python3.8/site-packages/pandas/core/algorithms.py\u001b[0m in \u001b[0;36mfactorize_array\u001b[0;34m(values, na_sentinel, size_hint, na_value, mask)\u001b[0m\n\u001b[1;32m    526\u001b[0m \u001b[0;34m\u001b[0m\u001b[0m\n\u001b[1;32m    527\u001b[0m     \u001b[0mtable\u001b[0m \u001b[0;34m=\u001b[0m \u001b[0mhash_klass\u001b[0m\u001b[0;34m(\u001b[0m\u001b[0msize_hint\u001b[0m \u001b[0;32mor\u001b[0m \u001b[0mlen\u001b[0m\u001b[0;34m(\u001b[0m\u001b[0mvalues\u001b[0m\u001b[0;34m)\u001b[0m\u001b[0;34m)\u001b[0m\u001b[0;34m\u001b[0m\u001b[0;34m\u001b[0m\u001b[0m\n\u001b[0;32m--> 528\u001b[0;31m     uniques, codes = table.factorize(\n\u001b[0m\u001b[1;32m    529\u001b[0m         \u001b[0mvalues\u001b[0m\u001b[0;34m,\u001b[0m \u001b[0mna_sentinel\u001b[0m\u001b[0;34m=\u001b[0m\u001b[0mna_sentinel\u001b[0m\u001b[0;34m,\u001b[0m \u001b[0mna_value\u001b[0m\u001b[0;34m=\u001b[0m\u001b[0mna_value\u001b[0m\u001b[0;34m,\u001b[0m \u001b[0mmask\u001b[0m\u001b[0;34m=\u001b[0m\u001b[0mmask\u001b[0m\u001b[0;34m\u001b[0m\u001b[0;34m\u001b[0m\u001b[0m\n\u001b[1;32m    530\u001b[0m     )\n",
      "\u001b[0;32mpandas/_libs/hashtable_class_helper.pxi\u001b[0m in \u001b[0;36mpandas._libs.hashtable.PyObjectHashTable.factorize\u001b[0;34m()\u001b[0m\n",
      "\u001b[0;32mpandas/_libs/hashtable_class_helper.pxi\u001b[0m in \u001b[0;36mpandas._libs.hashtable.PyObjectHashTable._unique\u001b[0;34m()\u001b[0m\n",
      "\u001b[0;31mTypeError\u001b[0m: unhashable type: 'list'"
     ]
    }
   ],
   "source": [
    "df.loc[df.index.duplicated()]"
   ]
  },
  {
   "cell_type": "code",
   "execution_count": 12,
   "metadata": {},
   "outputs": [
    {
     "ename": "TypeError",
     "evalue": "unhashable type: 'list'",
     "output_type": "error",
     "traceback": [
      "\u001b[0;31m---------------------------------------------------------------------------\u001b[0m",
      "\u001b[0;31mTypeError\u001b[0m                                 Traceback (most recent call last)",
      "\u001b[0;32m<ipython-input-12-aa4700c26de7>\u001b[0m in \u001b[0;36m<module>\u001b[0;34m\u001b[0m\n\u001b[0;32m----> 1\u001b[0;31m \u001b[0ma\u001b[0m\u001b[0;34m=\u001b[0m \u001b[0mdf\u001b[0m\u001b[0;34m.\u001b[0m\u001b[0mdrop_duplicates\u001b[0m\u001b[0;34m(\u001b[0m\u001b[0;34m)\u001b[0m\u001b[0;34m\u001b[0m\u001b[0;34m\u001b[0m\u001b[0m\n\u001b[0m",
      "\u001b[0;32m~/miniconda3/lib/python3.8/site-packages/pandas/core/frame.py\u001b[0m in \u001b[0;36mdrop_duplicates\u001b[0;34m(self, subset, keep, inplace, ignore_index)\u001b[0m\n\u001b[1;32m   5266\u001b[0m         \u001b[0minplace\u001b[0m \u001b[0;34m=\u001b[0m \u001b[0mvalidate_bool_kwarg\u001b[0m\u001b[0;34m(\u001b[0m\u001b[0minplace\u001b[0m\u001b[0;34m,\u001b[0m \u001b[0;34m\"inplace\"\u001b[0m\u001b[0;34m)\u001b[0m\u001b[0;34m\u001b[0m\u001b[0;34m\u001b[0m\u001b[0m\n\u001b[1;32m   5267\u001b[0m         \u001b[0mignore_index\u001b[0m \u001b[0;34m=\u001b[0m \u001b[0mvalidate_bool_kwarg\u001b[0m\u001b[0;34m(\u001b[0m\u001b[0mignore_index\u001b[0m\u001b[0;34m,\u001b[0m \u001b[0;34m\"ignore_index\"\u001b[0m\u001b[0;34m)\u001b[0m\u001b[0;34m\u001b[0m\u001b[0;34m\u001b[0m\u001b[0m\n\u001b[0;32m-> 5268\u001b[0;31m         \u001b[0mduplicated\u001b[0m \u001b[0;34m=\u001b[0m \u001b[0mself\u001b[0m\u001b[0;34m.\u001b[0m\u001b[0mduplicated\u001b[0m\u001b[0;34m(\u001b[0m\u001b[0msubset\u001b[0m\u001b[0;34m,\u001b[0m \u001b[0mkeep\u001b[0m\u001b[0;34m=\u001b[0m\u001b[0mkeep\u001b[0m\u001b[0;34m)\u001b[0m\u001b[0;34m\u001b[0m\u001b[0;34m\u001b[0m\u001b[0m\n\u001b[0m\u001b[1;32m   5269\u001b[0m \u001b[0;34m\u001b[0m\u001b[0m\n\u001b[1;32m   5270\u001b[0m         \u001b[0mresult\u001b[0m \u001b[0;34m=\u001b[0m \u001b[0mself\u001b[0m\u001b[0;34m[\u001b[0m\u001b[0;34m-\u001b[0m\u001b[0mduplicated\u001b[0m\u001b[0;34m]\u001b[0m\u001b[0;34m\u001b[0m\u001b[0;34m\u001b[0m\u001b[0m\n",
      "\u001b[0;32m~/miniconda3/lib/python3.8/site-packages/pandas/core/frame.py\u001b[0m in \u001b[0;36mduplicated\u001b[0;34m(self, subset, keep)\u001b[0m\n\u001b[1;32m   5403\u001b[0m \u001b[0;34m\u001b[0m\u001b[0m\n\u001b[1;32m   5404\u001b[0m         \u001b[0mvals\u001b[0m \u001b[0;34m=\u001b[0m \u001b[0;34m(\u001b[0m\u001b[0mcol\u001b[0m\u001b[0;34m.\u001b[0m\u001b[0mvalues\u001b[0m \u001b[0;32mfor\u001b[0m \u001b[0mname\u001b[0m\u001b[0;34m,\u001b[0m \u001b[0mcol\u001b[0m \u001b[0;32min\u001b[0m \u001b[0mself\u001b[0m\u001b[0;34m.\u001b[0m\u001b[0mitems\u001b[0m\u001b[0;34m(\u001b[0m\u001b[0;34m)\u001b[0m \u001b[0;32mif\u001b[0m \u001b[0mname\u001b[0m \u001b[0;32min\u001b[0m \u001b[0msubset\u001b[0m\u001b[0;34m)\u001b[0m\u001b[0;34m\u001b[0m\u001b[0;34m\u001b[0m\u001b[0m\n\u001b[0;32m-> 5405\u001b[0;31m         \u001b[0mlabels\u001b[0m\u001b[0;34m,\u001b[0m \u001b[0mshape\u001b[0m \u001b[0;34m=\u001b[0m \u001b[0mmap\u001b[0m\u001b[0;34m(\u001b[0m\u001b[0mlist\u001b[0m\u001b[0;34m,\u001b[0m \u001b[0mzip\u001b[0m\u001b[0;34m(\u001b[0m\u001b[0;34m*\u001b[0m\u001b[0mmap\u001b[0m\u001b[0;34m(\u001b[0m\u001b[0mf\u001b[0m\u001b[0;34m,\u001b[0m \u001b[0mvals\u001b[0m\u001b[0;34m)\u001b[0m\u001b[0;34m)\u001b[0m\u001b[0;34m)\u001b[0m\u001b[0;34m\u001b[0m\u001b[0;34m\u001b[0m\u001b[0m\n\u001b[0m\u001b[1;32m   5406\u001b[0m \u001b[0;34m\u001b[0m\u001b[0m\n\u001b[1;32m   5407\u001b[0m         \u001b[0mids\u001b[0m \u001b[0;34m=\u001b[0m \u001b[0mget_group_index\u001b[0m\u001b[0;34m(\u001b[0m\u001b[0mlabels\u001b[0m\u001b[0;34m,\u001b[0m \u001b[0mshape\u001b[0m\u001b[0;34m,\u001b[0m \u001b[0msort\u001b[0m\u001b[0;34m=\u001b[0m\u001b[0;32mFalse\u001b[0m\u001b[0;34m,\u001b[0m \u001b[0mxnull\u001b[0m\u001b[0;34m=\u001b[0m\u001b[0;32mFalse\u001b[0m\u001b[0;34m)\u001b[0m\u001b[0;34m\u001b[0m\u001b[0;34m\u001b[0m\u001b[0m\n",
      "\u001b[0;32m~/miniconda3/lib/python3.8/site-packages/pandas/core/frame.py\u001b[0m in \u001b[0;36mf\u001b[0;34m(vals)\u001b[0m\n\u001b[1;32m   5377\u001b[0m \u001b[0;34m\u001b[0m\u001b[0m\n\u001b[1;32m   5378\u001b[0m         \u001b[0;32mdef\u001b[0m \u001b[0mf\u001b[0m\u001b[0;34m(\u001b[0m\u001b[0mvals\u001b[0m\u001b[0;34m)\u001b[0m\u001b[0;34m:\u001b[0m\u001b[0;34m\u001b[0m\u001b[0;34m\u001b[0m\u001b[0m\n\u001b[0;32m-> 5379\u001b[0;31m             labels, shape = algorithms.factorize(\n\u001b[0m\u001b[1;32m   5380\u001b[0m                 \u001b[0mvals\u001b[0m\u001b[0;34m,\u001b[0m \u001b[0msize_hint\u001b[0m\u001b[0;34m=\u001b[0m\u001b[0mmin\u001b[0m\u001b[0;34m(\u001b[0m\u001b[0mlen\u001b[0m\u001b[0;34m(\u001b[0m\u001b[0mself\u001b[0m\u001b[0;34m)\u001b[0m\u001b[0;34m,\u001b[0m \u001b[0mSIZE_HINT_LIMIT\u001b[0m\u001b[0;34m)\u001b[0m\u001b[0;34m\u001b[0m\u001b[0;34m\u001b[0m\u001b[0m\n\u001b[1;32m   5381\u001b[0m             )\n",
      "\u001b[0;32m~/miniconda3/lib/python3.8/site-packages/pandas/core/algorithms.py\u001b[0m in \u001b[0;36mfactorize\u001b[0;34m(values, sort, na_sentinel, size_hint)\u001b[0m\n\u001b[1;32m    720\u001b[0m             \u001b[0mna_value\u001b[0m \u001b[0;34m=\u001b[0m \u001b[0;32mNone\u001b[0m\u001b[0;34m\u001b[0m\u001b[0;34m\u001b[0m\u001b[0m\n\u001b[1;32m    721\u001b[0m \u001b[0;34m\u001b[0m\u001b[0m\n\u001b[0;32m--> 722\u001b[0;31m         codes, uniques = factorize_array(\n\u001b[0m\u001b[1;32m    723\u001b[0m             \u001b[0mvalues\u001b[0m\u001b[0;34m,\u001b[0m \u001b[0mna_sentinel\u001b[0m\u001b[0;34m=\u001b[0m\u001b[0mna_sentinel\u001b[0m\u001b[0;34m,\u001b[0m \u001b[0msize_hint\u001b[0m\u001b[0;34m=\u001b[0m\u001b[0msize_hint\u001b[0m\u001b[0;34m,\u001b[0m \u001b[0mna_value\u001b[0m\u001b[0;34m=\u001b[0m\u001b[0mna_value\u001b[0m\u001b[0;34m\u001b[0m\u001b[0;34m\u001b[0m\u001b[0m\n\u001b[1;32m    724\u001b[0m         )\n",
      "\u001b[0;32m~/miniconda3/lib/python3.8/site-packages/pandas/core/algorithms.py\u001b[0m in \u001b[0;36mfactorize_array\u001b[0;34m(values, na_sentinel, size_hint, na_value, mask)\u001b[0m\n\u001b[1;32m    526\u001b[0m \u001b[0;34m\u001b[0m\u001b[0m\n\u001b[1;32m    527\u001b[0m     \u001b[0mtable\u001b[0m \u001b[0;34m=\u001b[0m \u001b[0mhash_klass\u001b[0m\u001b[0;34m(\u001b[0m\u001b[0msize_hint\u001b[0m \u001b[0;32mor\u001b[0m \u001b[0mlen\u001b[0m\u001b[0;34m(\u001b[0m\u001b[0mvalues\u001b[0m\u001b[0;34m)\u001b[0m\u001b[0;34m)\u001b[0m\u001b[0;34m\u001b[0m\u001b[0;34m\u001b[0m\u001b[0m\n\u001b[0;32m--> 528\u001b[0;31m     uniques, codes = table.factorize(\n\u001b[0m\u001b[1;32m    529\u001b[0m         \u001b[0mvalues\u001b[0m\u001b[0;34m,\u001b[0m \u001b[0mna_sentinel\u001b[0m\u001b[0;34m=\u001b[0m\u001b[0mna_sentinel\u001b[0m\u001b[0;34m,\u001b[0m \u001b[0mna_value\u001b[0m\u001b[0;34m=\u001b[0m\u001b[0mna_value\u001b[0m\u001b[0;34m,\u001b[0m \u001b[0mmask\u001b[0m\u001b[0;34m=\u001b[0m\u001b[0mmask\u001b[0m\u001b[0;34m\u001b[0m\u001b[0;34m\u001b[0m\u001b[0m\n\u001b[1;32m    530\u001b[0m     )\n",
      "\u001b[0;32mpandas/_libs/hashtable_class_helper.pxi\u001b[0m in \u001b[0;36mpandas._libs.hashtable.PyObjectHashTable.factorize\u001b[0;34m()\u001b[0m\n",
      "\u001b[0;32mpandas/_libs/hashtable_class_helper.pxi\u001b[0m in \u001b[0;36mpandas._libs.hashtable.PyObjectHashTable._unique\u001b[0;34m()\u001b[0m\n",
      "\u001b[0;31mTypeError\u001b[0m: unhashable type: 'list'"
     ]
    }
   ],
   "source": [
    "a= df.drop_duplicates()"
   ]
  },
  {
   "cell_type": "code",
   "execution_count": 11,
   "metadata": {},
   "outputs": [],
   "source": [
    "df.to_csv('/Users/silas/Desktop/Projects//HumanEbi/data/ebi/Runifno.tsv',sep='\\t')\n"
   ]
  },
  {
   "cell_type": "code",
   "execution_count": 15,
   "metadata": {},
   "outputs": [],
   "source": [
    "handle=e.EFetch('sra',id=['SRR4305514','ERR1018295'],retmode='xml')"
   ]
  },
  {
   "cell_type": "code",
   "execution_count": 20,
   "metadata": {
    "collapsed": true,
    "jupyter": {
     "outputs_hidden": true
    },
    "tags": []
   },
   "outputs": [
    {
     "name": "stdout",
     "output_type": "stream",
     "text": [
      "<?xml version=\"1.0\"  ?>\n",
      "<EXPERIMENT_PACKAGE_SET>\n",
      "<EXPERIMENT_PACKAGE><EXPERIMENT accession=\"SRX2199781\" alias=\"G69234\"><IDENTIFIERS><PRIMARY_ID>SRX2199781</PRIMARY_ID></IDENTIFIERS><TITLE>WGS of infant gut metagenome: Russian subject P009291 at age 494 days</TITLE><STUDY_REF accession=\"SRP090628\"><IDENTIFIERS><PRIMARY_ID>SRP090628</PRIMARY_ID><EXTERNAL_ID namespace=\"BioProject\">PRJNA290380</EXTERNAL_ID></IDENTIFIERS></STUDY_REF><DESIGN><DESIGN_DESCRIPTION>DNA extractions from stool were carried out using the QIAamp DNA Stool Mini Kit (QIAGEN, Inc., Valencia, CA, USA). Metagenomic DNA samples were quantified by Quant-iT PicoGreen dsDNA Assay (Life Technologies) and normalized to a concentration of 50 pg uL-1. Illumina sequencing libraries were prepared from 100-250 pg DNA using the Nextera XT DNA Library Preparation kit (Illumina) according to the manufacturer’s recommended protocol, with reaction volumes scaled accordingly. Insert sizes and concentrations for each pooled library were determined using an Agilent Bioanalyzer DNA 1000 kit (Agilent Technologies)</DESIGN_DESCRIPTION><SAMPLE_DESCRIPTOR accession=\"SRS1719567\"><IDENTIFIERS><PRIMARY_ID>SRS1719567</PRIMARY_ID><EXTERNAL_ID namespace=\"BioSample\">SAMN05826568</EXTERNAL_ID></IDENTIFIERS></SAMPLE_DESCRIPTOR><LIBRARY_DESCRIPTOR><LIBRARY_NAME>G69234</LIBRARY_NAME><LIBRARY_STRATEGY>WGS</LIBRARY_STRATEGY><LIBRARY_SOURCE>METAGENOMIC</LIBRARY_SOURCE><LIBRARY_SELECTION>RANDOM</LIBRARY_SELECTION><LIBRARY_LAYOUT><PAIRED/></LIBRARY_LAYOUT></LIBRARY_DESCRIPTOR></DESIGN><PLATFORM><ILLUMINA><INSTRUMENT_MODEL>Illumina HiSeq 2500</INSTRUMENT_MODEL></ILLUMINA></PLATFORM></EXPERIMENT><SUBMISSION lab_name=\"Medical and population genetics\" center_name=\"Broad Institute\" accession=\"SRA481012\" alias=\"SUB1983863\"><IDENTIFIERS><PRIMARY_ID>SRA481012</PRIMARY_ID></IDENTIFIERS></SUBMISSION><Organization type=\"institute\" url=\"http://www.broadinstitute.org/\"><Name>Broad Institute</Name><Address postal_code=\"02142\"><Department>Medical and population genetics</Department><Institution>Broad Institute</Institution><Street>415 Main St.</Street><City>Cambridge</City><Sub>Massachusetts</Sub><Country>United States of America</Country></Address><Contact email=\"vatanen@broadinstitute.org\"><Address postal_code=\"02142\"><Department>Medical and population genetics</Department><Institution>Broad Institute</Institution><Street>415 Main St.</Street><City>Cambridge</City><Sub>Massachusetts</Sub><Country>United States of America</Country></Address><Name><First>Tommi</First><Last>Vatanen</Last></Name></Contact></Organization><STUDY center_name=\"BioProject\" alias=\"PRJNA290380\" accession=\"SRP090628\"><IDENTIFIERS><PRIMARY_ID>SRP090628</PRIMARY_ID><EXTERNAL_ID namespace=\"BioProject\" label=\"primary\">PRJNA290380</EXTERNAL_ID></IDENTIFIERS><DESCRIPTOR><STUDY_TITLE>A longitudinal analysis of the developing gut microbiome in infants from Finland, Estonia, and Russian Karelia</STUDY_TITLE><STUDY_TYPE existing_study_type=\"Metagenomics\"/><STUDY_ABSTRACT>This is a longitudinal collection of stool samples from infants at risk for disease. Approximately 1,000 newborns were recruited to the birth cohort as part of the international DIABIMMUNE Study (http://www.diabimmune.org/) for which the consent rate was 80% in Tartu, Estonia, 59% in Espoo, Finland, and 24% in Petrozavodsk, Russia. Recruitment took place between September 2008 and May 2010 in Estonia and Finland, and between September 2008 and July 2011 in Russia. Follow-up was completed in April 2013 in Estonia and Finland, and in October 2013 in Russia. The final number of children included in the present study was 74 from each country. Inclusion criteria included positive cord blood testing for HLA DR-DQ alleles conferring increased risk for autoimmunity. The participating children were monitored prospectively for infections, use of drugs including antibiotics, and other life events.</STUDY_ABSTRACT><CENTER_PROJECT_NAME>human gut metagenome</CENTER_PROJECT_NAME></DESCRIPTOR><STUDY_LINKS><STUDY_LINK><XREF_LINK><DB>pubmed</DB><ID>34083435</ID></XREF_LINK></STUDY_LINK></STUDY_LINKS></STUDY><SAMPLE alias=\"G69234\" accession=\"SRS1719567\"><IDENTIFIERS><PRIMARY_ID>SRS1719567</PRIMARY_ID><EXTERNAL_ID namespace=\"BioSample\">SAMN05826568</EXTERNAL_ID></IDENTIFIERS><SAMPLE_NAME><TAXON_ID>408170</TAXON_ID><SCIENTIFIC_NAME>human gut metagenome</SCIENTIFIC_NAME></SAMPLE_NAME><SAMPLE_LINKS><SAMPLE_LINK><XREF_LINK><DB>bioproject</DB><ID>290380</ID><LABEL>PRJNA290380</LABEL></XREF_LINK></SAMPLE_LINK></SAMPLE_LINKS><SAMPLE_ATTRIBUTES><SAMPLE_ATTRIBUTE><TAG>collection_date</TAG><VALUE>missing</VALUE></SAMPLE_ATTRIBUTE><SAMPLE_ATTRIBUTE><TAG>env_biome</TAG><VALUE>ENVO:2100002</VALUE></SAMPLE_ATTRIBUTE><SAMPLE_ATTRIBUTE><TAG>env_feature</TAG><VALUE>ENVO:00000062</VALUE></SAMPLE_ATTRIBUTE><SAMPLE_ATTRIBUTE><TAG>env_material</TAG><VALUE>ENVO:00002003</VALUE></SAMPLE_ATTRIBUTE><SAMPLE_ATTRIBUTE><TAG>geo_loc_name</TAG><VALUE>Russia:Petrozavodsk</VALUE></SAMPLE_ATTRIBUTE><SAMPLE_ATTRIBUTE><TAG>host</TAG><VALUE>Homo sapiens</VALUE></SAMPLE_ATTRIBUTE><SAMPLE_ATTRIBUTE><TAG>lat_lon</TAG><VALUE>missing</VALUE></SAMPLE_ATTRIBUTE><SAMPLE_ATTRIBUTE><TAG>host_age</TAG><VALUE>494</VALUE></SAMPLE_ATTRIBUTE><SAMPLE_ATTRIBUTE><TAG>host_subject_id</TAG><VALUE>P009291</VALUE></SAMPLE_ATTRIBUTE><SAMPLE_ATTRIBUTE><TAG>ref_biomaterial</TAG><VALUE>PMID:27259157</VALUE></SAMPLE_ATTRIBUTE><SAMPLE_ATTRIBUTE><TAG>BioSampleModel</TAG><VALUE>MIMS.me</VALUE></SAMPLE_ATTRIBUTE><SAMPLE_ATTRIBUTE><TAG>BioSampleModel</TAG><VALUE>MIGS/MIMS/MIMARKS.human-gut</VALUE></SAMPLE_ATTRIBUTE></SAMPLE_ATTRIBUTES></SAMPLE><Pool><Member member_name=\"\" accession=\"SRS1719567\" sample_name=\"G69234\" spots=\"14774036\" bases=\"2927713582\" tax_id=\"408170\" organism=\"human gut metagenome\"><IDENTIFIERS><PRIMARY_ID>SRS1719567</PRIMARY_ID><EXTERNAL_ID namespace=\"BioSample\">SAMN05826568</EXTERNAL_ID></IDENTIFIERS></Member></Pool><RUN_SET><RUN accession=\"SRR4305514\" alias=\"G69234_pe_2.fastq.gz\" total_spots=\"14774036\" total_bases=\"2927713582\" size=\"2019836736\" load_done=\"true\" published=\"2016-10-06 09:44:13\" is_public=\"true\" cluster_name=\"public\" static_data_available=\"1\"><IDENTIFIERS><PRIMARY_ID>SRR4305514</PRIMARY_ID></IDENTIFIERS><EXPERIMENT_REF accession=\"SRX2199781\"><IDENTIFIERS/></EXPERIMENT_REF><Pool><Member member_name=\"\" accession=\"SRS1719567\" sample_name=\"G69234\" spots=\"14774036\" bases=\"2927713582\" tax_id=\"408170\" organism=\"human gut metagenome\"><IDENTIFIERS><PRIMARY_ID>SRS1719567</PRIMARY_ID><EXTERNAL_ID namespace=\"BioSample\">SAMN05826568</EXTERNAL_ID></IDENTIFIERS></Member></Pool><SRAFiles><SRAFile cluster=\"public\" filename=\"G69234_pe_1.fastq.gz\" size=\"1206047878\" date=\"2020-04-08 19:29:56\" md5=\"af060591977ce20280c48bea0c1bea36\" semantic_name=\"fastq\" supertype=\"Original\" sratoolkit=\"0\"><Alternatives url=\"gs://sra-pub-src-6/SRR4305514/G69234_pe_1.fastq.gz\" free_egress=\"-\" access_type=\"Use Cloud Data Delivery\" org=\"GCP\"/><Alternatives url=\"s3://sra-pub-src-6/SRR4305514/G69234_pe_1.fastq.gz\" free_egress=\"-\" access_type=\"Use Cloud Data Delivery\" org=\"AWS\"/></SRAFile><SRAFile cluster=\"public\" filename=\"G69234_pe_2.fastq.gz\" size=\"1194300520\" date=\"2020-04-08 19:29:56\" md5=\"4e2516dbf0bc3a85c88409d1e3f48118\" semantic_name=\"fastq\" supertype=\"Original\" sratoolkit=\"0\"><Alternatives url=\"gs://sra-pub-src-5/SRR4305514/G69234_pe_2.fastq.gz\" free_egress=\"-\" access_type=\"Use Cloud Data Delivery\" org=\"GCP\"/><Alternatives url=\"s3://sra-pub-src-5/SRR4305514/G69234_pe_2.fastq.gz\" free_egress=\"-\" access_type=\"Use Cloud Data Delivery\" org=\"AWS\"/></SRAFile><SRAFile cluster=\"public\" filename=\"SRR4305514\" url=\"https://sra-downloadb.st-va.ncbi.nlm.nih.gov/sos1/sra-pub-run-10/SRR4305514/SRR4305514.1\" size=\"2019838558\" date=\"2016-09-29 16:40:53\" md5=\"9b2f258421affe980c8faf018c17c885\" semantic_name=\"run\" supertype=\"Primary ETL\" sratoolkit=\"1\"><Alternatives url=\"gs://sra-pub-crun-3/SRR4305514/SRR4305514.1\" free_egress=\"-\" access_type=\"Use Cloud Data Delivery\" org=\"GCP\"/><Alternatives url=\"https://sra-pub-run-odp.s3.amazonaws.com/sra/SRR4305514/SRR4305514\" free_egress=\"worldwide\" access_type=\"anonymous\" org=\"AWS\"/><Alternatives url=\"https://sra-downloadb.be-md.ncbi.nlm.nih.gov/sos2/sra-pub-run-9/SRR4305514/SRR4305514.1\" free_egress=\"worldwide\" access_type=\"anonymous\" org=\"NCBI\"/></SRAFile></SRAFiles><CloudFiles><CloudFile filetype=\"fastq\" provider=\"gs\" location=\"gs.US\"/><CloudFile filetype=\"fastq\" provider=\"s3\" location=\"s3.us-east-1\"/><CloudFile filetype=\"run\" provider=\"gs\" location=\"gs.US\"/><CloudFile filetype=\"run\" provider=\"s3\" location=\"s3.us-east-1\"/><CloudFile filetype=\"run.zq\" provider=\"gs\" location=\"gs.US\"/></CloudFiles><Statistics nreads=\"2\" nspots=\"14774036\"><Read index=\"0\" count=\"14774036\" average=\"99.95\" stdev=\"2.82\"/><Read index=\"1\" count=\"14774036\" average=\"98.22\" stdev=\"4.43\"/></Statistics><Databases><Database><Table name=\"SEQUENCE\"><Statistics source=\"meta\"><Rows count=\"14774036\"/><Elements count=\"2927713582\"/></Statistics></Table></Database></Databases><Bases cs_native=\"false\" count=\"2927713582\"><Base value=\"A\" count=\"722493828\"/><Base value=\"C\" count=\"753385040\"/><Base value=\"G\" count=\"703588837\"/><Base value=\"T\" count=\"748164312\"/><Base value=\"N\" count=\"81565\"/></Bases></RUN></RUN_SET></EXPERIMENT_PACKAGE><EXPERIMENT_PACKAGE><EXPERIMENT alias=\"ena-EXPERIMENT-BGI-16-09-2015-16:59:46:649-111\" center_name=\"Beijing Genome Institute\" accession=\"ERX1097362\"><IDENTIFIERS><PRIMARY_ID>ERX1097362</PRIMARY_ID></IDENTIFIERS><TITLE>Illumina HiSeq 2000 paired end sequencing</TITLE><STUDY_REF refname=\"ena-STUDY-BGI-16-09-2015-16:59:58:488-236\" refcenter=\"BGI\" accession=\"ERP012177\"><IDENTIFIERS><PRIMARY_ID>ERP012177</PRIMARY_ID></IDENTIFIERS></STUDY_REF><DESIGN><DESIGN_DESCRIPTION/><SAMPLE_DESCRIPTOR refname=\"SZAXPI017467-87\" refcenter=\"BGI\" accession=\"ERS848728\"><IDENTIFIERS><PRIMARY_ID>ERS848728</PRIMARY_ID><EXTERNAL_ID namespace=\"BioSample\">SAMEA3541579</EXTERNAL_ID></IDENTIFIERS></SAMPLE_DESCRIPTOR><LIBRARY_DESCRIPTOR><LIBRARY_NAME>SZAXPI017467-87</LIBRARY_NAME><LIBRARY_STRATEGY>WGS</LIBRARY_STRATEGY><LIBRARY_SOURCE>METAGENOMIC</LIBRARY_SOURCE><LIBRARY_SELECTION>other</LIBRARY_SELECTION><LIBRARY_LAYOUT><PAIRED NOMINAL_LENGTH=\"350\"/></LIBRARY_LAYOUT></LIBRARY_DESCRIPTOR></DESIGN><PLATFORM><ILLUMINA><INSTRUMENT_MODEL>Illumina HiSeq 2000</INSTRUMENT_MODEL></ILLUMINA></PLATFORM></EXPERIMENT><SUBMISSION alias=\"ena-SUBMISSION-BGI-16-09-2015-16:35:45:115-1\" center_name=\"Beijing Genome Institute\" accession=\"ERA485830\" lab_name=\"European Nucleotide Archive\"><IDENTIFIERS><PRIMARY_ID>ERA485830</PRIMARY_ID></IDENTIFIERS><TITLE>Submitted by Beijing Genome Institute on 16-SEP-2015</TITLE></SUBMISSION><Organization type=\"center\"><Name abbr=\"BGI\">Beijing Genome Institute</Name></Organization><STUDY alias=\"ena-STUDY-BGI-16-09-2015-16:59:58:488-236\" center_name=\"Beijing Genome Institute\" accession=\"ERP012177\"><IDENTIFIERS><PRIMARY_ID>ERP012177</PRIMARY_ID><EXTERNAL_ID namespace=\"BioProject\">PRJEB10878</EXTERNAL_ID></IDENTIFIERS><DESCRIPTOR><STUDY_TITLE>Metagenomic analysis of fecal microbiome as a tool towards targeted non-invasive biomarkers for colorectal cancer</STUDY_TITLE><STUDY_TYPE existing_study_type=\"Other\"/><STUDY_ABSTRACT>We performed a metagenome-wide association study on fecal samples from 74 CRC patients and 54 controls from China and validated the results in 16 patients and 24 controls from Denmark. We further validated the biomarkers in two published cohorts from France and Austria. Finally, we employed targeted quantitative PCR (qPCR) assays to evaluate the diagnostic potential of selected biomarkers in an independent Chinese cohort of 47 patients and 109 controls.</STUDY_ABSTRACT><CENTER_PROJECT_NAME>Metagenomic analysis of fecal microbiome as a tool towards targeted non-invasive biomarkers for colorectal cancer</CENTER_PROJECT_NAME><STUDY_DESCRIPTION>We performed a metagenome-wide association study on fecal samples from 74 CRC patients and 54 controls from China and validated the results in 16 patients and 24 controls from Denmark. We further validated the biomarkers in two published cohorts from France and Austria. Finally, we employed targeted quantitative PCR (qPCR) assays to evaluate the diagnostic potential of selected biomarkers in an independent Chinese cohort of 47 patients and 109 controls.</STUDY_DESCRIPTION></DESCRIPTOR></STUDY><SAMPLE alias=\"SAMEA3541579\" accession=\"ERS848728\"><IDENTIFIERS><PRIMARY_ID>ERS848728</PRIMARY_ID><EXTERNAL_ID namespace=\"BioSample\">SAMEA3541579</EXTERNAL_ID></IDENTIFIERS><TITLE>SZAXPI017467-87</TITLE><SAMPLE_NAME><TAXON_ID>408170</TAXON_ID><SCIENTIFIC_NAME>human gut metagenome</SCIENTIFIC_NAME></SAMPLE_NAME><SAMPLE_ATTRIBUTES><SAMPLE_ATTRIBUTE><TAG>Alias</TAG><VALUE>SZAXPI017467-87</VALUE></SAMPLE_ATTRIBUTE><SAMPLE_ATTRIBUTE><TAG>ENA checklist</TAG><VALUE>ERC000015</VALUE></SAMPLE_ATTRIBUTE><SAMPLE_ATTRIBUTE><TAG>INSDC center name</TAG><VALUE>BGI</VALUE></SAMPLE_ATTRIBUTE><SAMPLE_ATTRIBUTE><TAG>INSDC first public</TAG><VALUE>2015-10-01T17:02:43Z</VALUE></SAMPLE_ATTRIBUTE><SAMPLE_ATTRIBUTE><TAG>INSDC last update</TAG><VALUE>2016-10-21T09:36:53Z</VALUE></SAMPLE_ATTRIBUTE><SAMPLE_ATTRIBUTE><TAG>INSDC status</TAG><VALUE>public</VALUE></SAMPLE_ATTRIBUTE><SAMPLE_ATTRIBUTE><TAG>SRA accession</TAG><VALUE>ERS848728</VALUE></SAMPLE_ATTRIBUTE><SAMPLE_ATTRIBUTE><TAG>Sample Name</TAG><VALUE>ERS848728</VALUE></SAMPLE_ATTRIBUTE><SAMPLE_ATTRIBUTE><TAG>Title</TAG><VALUE>Stool sample from China</VALUE></SAMPLE_ATTRIBUTE><SAMPLE_ATTRIBUTE><TAG>collection date</TAG><VALUE>2012</VALUE></SAMPLE_ATTRIBUTE><SAMPLE_ATTRIBUTE><TAG>config</TAG><VALUE>case</VALUE></SAMPLE_ATTRIBUTE><SAMPLE_ATTRIBUTE><TAG>environment (biome)</TAG><VALUE>human gut</VALUE></SAMPLE_ATTRIBUTE><SAMPLE_ATTRIBUTE><TAG>environment (feature)</TAG><VALUE>human-associated habitat</VALUE></SAMPLE_ATTRIBUTE><SAMPLE_ATTRIBUTE><TAG>environment (material)</TAG><VALUE>faeces</VALUE></SAMPLE_ATTRIBUTE><SAMPLE_ATTRIBUTE><TAG>geographic location (altitude)</TAG><VALUE>unknown</VALUE></SAMPLE_ATTRIBUTE><SAMPLE_ATTRIBUTE><TAG>geographic location (country and/or sea)</TAG><VALUE>China</VALUE></SAMPLE_ATTRIBUTE><SAMPLE_ATTRIBUTE><TAG>geographic location (country and/or sea,region)</TAG><VALUE>China</VALUE></SAMPLE_ATTRIBUTE><SAMPLE_ATTRIBUTE><TAG>geographic location (latitude)</TAG><VALUE>55.676097</VALUE></SAMPLE_ATTRIBUTE><SAMPLE_ATTRIBUTE><TAG>geographic location (longitude)</TAG><VALUE>12.568337</VALUE></SAMPLE_ATTRIBUTE><SAMPLE_ATTRIBUTE><TAG>human gut environmental package</TAG><VALUE>human-gut</VALUE></SAMPLE_ATTRIBUTE><SAMPLE_ATTRIBUTE><TAG>investigation type</TAG><VALUE>metagenome</VALUE></SAMPLE_ATTRIBUTE><SAMPLE_ATTRIBUTE><TAG>project name</TAG><VALUE>MetaHIT-IGC</VALUE></SAMPLE_ATTRIBUTE><SAMPLE_ATTRIBUTE><TAG>sequencing method</TAG><VALUE>Illumina</VALUE></SAMPLE_ATTRIBUTE></SAMPLE_ATTRIBUTES></SAMPLE><Pool><Member member_name=\"\" accession=\"ERS848728\" sample_name=\"SAMEA3541579\" sample_title=\"SZAXPI017467-87\" spots=\"21211853\" bases=\"4080498548\" tax_id=\"408170\" organism=\"human gut metagenome\"><IDENTIFIERS><PRIMARY_ID>ERS848728</PRIMARY_ID><EXTERNAL_ID namespace=\"BioSample\">SAMEA3541579</EXTERNAL_ID></IDENTIFIERS></Member></Pool><RUN_SET><RUN accession=\"ERR1018295\" alias=\"ena-RUN-BGI-16-09-2015-16:59:46:649-111\" total_spots=\"21211853\" total_bases=\"4080498548\" size=\"3448209868\" load_done=\"true\" published=\"2015-10-26 23:31:31\" is_public=\"true\" cluster_name=\"public\" static_data_available=\"1\"><IDENTIFIERS><PRIMARY_ID>ERR1018295</PRIMARY_ID></IDENTIFIERS><TITLE>Illumina HiSeq 2000 paired end sequencing</TITLE><EXPERIMENT_REF accession=\"ERX1097362\" refcenter=\"BGI\" refname=\"ena-EXPERIMENT-BGI-16-09-2015-16:59:46:649-111\"><IDENTIFIERS><PRIMARY_ID>ERX1097362</PRIMARY_ID></IDENTIFIERS></EXPERIMENT_REF><RUN_ATTRIBUTES><RUN_ATTRIBUTE><TAG>ENA-FIRST-PUBLIC</TAG><VALUE>2015-10-01</VALUE></RUN_ATTRIBUTE><RUN_ATTRIBUTE><TAG>ENA-LAST-UPDATE</TAG><VALUE>2018-11-16</VALUE></RUN_ATTRIBUTE></RUN_ATTRIBUTES><Pool><Member member_name=\"\" accession=\"ERS848728\" sample_name=\"SAMEA3541579\" sample_title=\"SZAXPI017467-87\" spots=\"21211853\" bases=\"4080498548\" tax_id=\"408170\" organism=\"human gut metagenome\"><IDENTIFIERS><PRIMARY_ID>ERS848728</PRIMARY_ID><EXTERNAL_ID namespace=\"BioSample\">SAMEA3541579</EXTERNAL_ID></IDENTIFIERS></Member></Pool><SRAFiles><SRAFile cluster=\"public\" filename=\"MSC4A.SZAXPI017467-87.clean.trim.rmhost.1.fq.gz\" url=\"http://ftp.sra.ebi.ac.uk/vol1/run/ERR101/ERR1018295/MSC4A.SZAXPI017467-87.clean.trim.rmhost.1.fq.gz\" size=\"1890793734\" date=\"2019-09-06 13:51:08\" md5=\"fd44b8073f3b1f9cde98ca365a3ac6a5\" semantic_name=\"fastq\" supertype=\"Original\" sratoolkit=\"0\"><Alternatives url=\"http://ftp.sra.ebi.ac.uk/vol1/run/ERR101/ERR1018295/MSC4A.SZAXPI017467-87.clean.trim.rmhost.1.fq.gz\" free_egress=\"worldwide\" access_type=\"anonymous\" org=\"EBI\"/></SRAFile><SRAFile cluster=\"public\" filename=\"MSC4A.SZAXPI017467-87.clean.trim.rmhost.2.fq.gz\" url=\"http://ftp.sra.ebi.ac.uk/vol1/run/ERR101/ERR1018295/MSC4A.SZAXPI017467-87.clean.trim.rmhost.2.fq.gz\" size=\"1920861854\" date=\"2019-09-06 13:51:08\" md5=\"8a5a925524405f4f8221c21b13674b43\" semantic_name=\"fastq\" supertype=\"Original\" sratoolkit=\"0\"><Alternatives url=\"http://ftp.sra.ebi.ac.uk/vol1/run/ERR101/ERR1018295/MSC4A.SZAXPI017467-87.clean.trim.rmhost.2.fq.gz\" free_egress=\"worldwide\" access_type=\"anonymous\" org=\"EBI\"/></SRAFile><SRAFile cluster=\"public\" filename=\"ERR1018295\" url=\"https://sra-downloadb.st-va.ncbi.nlm.nih.gov/sos2/sra-pub-run-3/ERR1018295/ERR1018295.1\" size=\"3448211848\" date=\"2015-12-07 19:33:43\" md5=\"437abe94496cd50015df0d5d64bb2743\" semantic_name=\"run\" supertype=\"Primary ETL\" sratoolkit=\"1\"><Alternatives url=\"gs://sra-pub-crun-1/ERR1018295/ERR1018295.1\" free_egress=\"-\" access_type=\"Use Cloud Data Delivery\" org=\"GCP\"/><Alternatives url=\"https://sra-pub-run-odp.s3.amazonaws.com/sra/ERR1018295/ERR1018295\" free_egress=\"worldwide\" access_type=\"anonymous\" org=\"AWS\"/><Alternatives url=\"https://sra-downloadb.be-md.ncbi.nlm.nih.gov/sos1/sra-pub-run-1/ERR1018295/ERR1018295.1\" free_egress=\"worldwide\" access_type=\"anonymous\" org=\"NCBI\"/></SRAFile></SRAFiles><CloudFiles><CloudFile filetype=\"run\" provider=\"gs\" location=\"gs.US\"/><CloudFile filetype=\"run\" provider=\"s3\" location=\"s3.us-east-1\"/><CloudFile filetype=\"run.zq\" provider=\"gs\" location=\"gs.US\"/></CloudFiles><Statistics nreads=\"2\" nspots=\"21211853\"><Read index=\"0\" count=\"21211853\" average=\"96.69\" stdev=\"9.61\"/><Read index=\"1\" count=\"21211853\" average=\"95.68\" stdev=\"11.14\"/></Statistics><Bases cs_native=\"false\" count=\"4080498548\"><Base value=\"A\" count=\"1119155487\"/><Base value=\"C\" count=\"927586310\"/><Base value=\"G\" count=\"940167203\"/><Base value=\"T\" count=\"1093438523\"/><Base value=\"N\" count=\"151025\"/></Bases></RUN></RUN_SET></EXPERIMENT_PACKAGE>\n",
      "</EXPERIMENT_PACKAGE_SET>\n",
      "\n"
     ]
    }
   ],
   "source": [
    "print(handle.decode())"
   ]
  },
  {
   "cell_type": "code",
   "execution_count": null,
   "metadata": {},
   "outputs": [],
   "source": []
  },
  {
   "cell_type": "code",
   "execution_count": null,
   "metadata": {},
   "outputs": [],
   "source": []
  }
 ],
 "metadata": {
  "kernelspec": {
   "display_name": "Python 3",
   "language": "python",
   "name": "python3"
  },
  "language_info": {
   "codemirror_mode": {
    "name": "ipython",
    "version": 3
   },
   "file_extension": ".py",
   "mimetype": "text/x-python",
   "name": "python",
   "nbconvert_exporter": "python",
   "pygments_lexer": "ipython3",
   "version": "3.8.5"
  },
  "widgets": {
   "application/vnd.jupyter.widget-state+json": {
    "state": {},
    "version_major": 2,
    "version_minor": 0
   }
  }
 },
 "nbformat": 4,
 "nbformat_minor": 4
}
